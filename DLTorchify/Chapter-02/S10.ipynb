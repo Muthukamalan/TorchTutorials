{
 "cells": [
  {
   "cell_type": "markdown",
   "metadata": {},
   "source": [
    "<h1 align='center'>Combining data sources into a unified dataset</h1>\n",
    "\n",
    "This chapter covers\n",
    "- [ ] loading and processing raw data files\n",
    "- [ ] implementing a python class to represent our data\n",
    "- [ ] converting our data into a format using by pytorch\n",
    "- [ ] visualizing the training and validation data \n",
    "\n",
    "<div align='center' ><img src='assets/dataloading.png'/></div>"
   ]
  },
  {
   "cell_type": "markdown",
   "metadata": {},
   "source": [
    "Our CT data comes in two files: \n",
    "    - `a .mhd` file containing metadata header information, and \n",
    "    - `a .raw` file containing the raw bytes that make up the 3D array. \n",
    "    \n",
    "Each file’s name starts with a unique identifier called the series UID (the name comes from the Digital Imaging and Communications in Medicine **DICOM** nomenclature) for the CT scan in question. \n",
    "For example, for series UID 1.2.3, there would be two files: 1.2.3.mhd and 1.2.3.raw"
   ]
  },
  {
   "cell_type": "markdown",
   "metadata": {},
   "source": [
    "```py\n",
    "class ct:\n",
    "    def __init__(self):\n",
    "        annotations.csv\n",
    "        .raw files\n",
    "        .mhd files\n",
    "    \n",
    "    def __getitems__(self,index):\n",
    "        return {\n",
    "            '3D Array':torch.Tensor,\n",
    "            'isNodule':bool,\n",
    "            'series_uid':str,\n",
    "            'candidate_location':tuple\n",
    "        }      \n",
    "\n",
    "```"
   ]
  },
  {
   "cell_type": "code",
   "execution_count": 1,
   "metadata": {},
   "outputs": [],
   "source": [
    "import torch\n",
    "import torchvision\n",
    "import pandas as pd \n",
    "import os\n",
    "from matplotlib import pyplot as plt"
   ]
  },
  {
   "cell_type": "code",
   "execution_count": 2,
   "metadata": {},
   "outputs": [
    {
     "name": "stdout",
     "output_type": "stream",
     "text": [
      "List \n",
      "['annotations.csv', 'candidates.csv', 'candidates_V2.zip', 'evaluationScript.zip', 'seg-lungs-LUNA16.zip', 'subset0.zip', 'subset1.zip', 'subset2.zip', 'subset3.zip', 'subset4.zip']\n"
     ]
    }
   ],
   "source": [
    "DIRPATH:str = os.path.join(r\"C:\\Users\\muthu\\GitHub\\DATA 📁\")\n",
    "LUNADir:str = os.path.join(DIRPATH,\"Luna16\")\n",
    "\n",
    "print(f\"List \\n{os.listdir(LUNADir)}\")"
   ]
  },
  {
   "cell_type": "code",
   "execution_count": 16,
   "metadata": {},
   "outputs": [],
   "source": [
    "# unifying our annotation and candidate data\n",
    "annotations= pd.read_csv(os.path.join(LUNADir,'annotations.csv'))\n",
    "candidates = pd.read_csv(os.path.join(LUNADir,'candidates.csv'))"
   ]
  },
  {
   "cell_type": "code",
   "execution_count": 15,
   "metadata": {},
   "outputs": [
    {
     "name": "stdout",
     "output_type": "stream",
     "text": [
      "seriesuid:: 1.3.6.1.4.1.14519.5.2.1.6279.6001.100225287222365663678666836860\n"
     ]
    },
    {
     "data": {
      "text/html": [
       "<div>\n",
       "<style scoped>\n",
       "    .dataframe tbody tr th:only-of-type {\n",
       "        vertical-align: middle;\n",
       "    }\n",
       "\n",
       "    .dataframe tbody tr th {\n",
       "        vertical-align: top;\n",
       "    }\n",
       "\n",
       "    .dataframe thead th {\n",
       "        text-align: right;\n",
       "    }\n",
       "</style>\n",
       "<table border=\"1\" class=\"dataframe\">\n",
       "  <thead>\n",
       "    <tr style=\"text-align: right;\">\n",
       "      <th></th>\n",
       "      <th>seriesuid</th>\n",
       "      <th>coordX</th>\n",
       "      <th>coordY</th>\n",
       "      <th>coordZ</th>\n",
       "      <th>diameter_mm</th>\n",
       "    </tr>\n",
       "  </thead>\n",
       "  <tbody>\n",
       "    <tr>\n",
       "      <th>0</th>\n",
       "      <td>1.3.6.1.4.1.14519.5.2.1.6279.6001.100225287222...</td>\n",
       "      <td>-128.699421</td>\n",
       "      <td>-175.319272</td>\n",
       "      <td>-298.387506</td>\n",
       "      <td>5.651471</td>\n",
       "    </tr>\n",
       "    <tr>\n",
       "      <th>1</th>\n",
       "      <td>1.3.6.1.4.1.14519.5.2.1.6279.6001.100225287222...</td>\n",
       "      <td>103.783651</td>\n",
       "      <td>-211.925149</td>\n",
       "      <td>-227.121250</td>\n",
       "      <td>4.224708</td>\n",
       "    </tr>\n",
       "  </tbody>\n",
       "</table>\n",
       "</div>"
      ],
      "text/plain": [
       "                                           seriesuid      coordX      coordY  \\\n",
       "0  1.3.6.1.4.1.14519.5.2.1.6279.6001.100225287222... -128.699421 -175.319272   \n",
       "1  1.3.6.1.4.1.14519.5.2.1.6279.6001.100225287222...  103.783651 -211.925149   \n",
       "\n",
       "       coordZ  diameter_mm  \n",
       "0 -298.387506     5.651471  \n",
       "1 -227.121250     4.224708  "
      ]
     },
     "execution_count": 15,
     "metadata": {},
     "output_type": "execute_result"
    }
   ],
   "source": [
    "print(f\"seriesuid:: {candidates.iloc[0,0]}\")\n",
    "annotations.loc[annotations['seriesuid']==candidates.iloc[0,0]]"
   ]
  },
  {
   "cell_type": "code",
   "execution_count": 17,
   "metadata": {},
   "outputs": [],
   "source": [
    "from collections import namedtuple"
   ]
  },
  {
   "cell_type": "code",
   "execution_count": 23,
   "metadata": {},
   "outputs": [],
   "source": [
    "candidateInfoTuple = namedtuple(typename='CandidateInfoTuple',field_names=['isNodulebool','diameter_mm','seies_uid','center_xyz'])"
   ]
  },
  {
   "cell_type": "code",
   "execution_count": 25,
   "metadata": {},
   "outputs": [
    {
     "data": {
      "text/plain": [
       "CandidateInfoTuple(isNodulebool='yes', diameter_mm='232', seies_uid='222', center_xyz='32323')"
      ]
     },
     "execution_count": 25,
     "metadata": {},
     "output_type": "execute_result"
    }
   ],
   "source": [
    "candidateInfoTuple(isNodulebool='yes',diameter_mm='232',seies_uid='222',center_xyz='32323')"
   ]
  },
  {
   "cell_type": "code",
   "execution_count": null,
   "metadata": {},
   "outputs": [],
   "source": []
  }
 ],
 "metadata": {
  "kernelspec": {
   "display_name": "venv",
   "language": "python",
   "name": "python3"
  },
  "language_info": {
   "codemirror_mode": {
    "name": "ipython",
    "version": 3
   },
   "file_extension": ".py",
   "mimetype": "text/x-python",
   "name": "python",
   "nbconvert_exporter": "python",
   "pygments_lexer": "ipython3",
   "version": "3.12.3"
  }
 },
 "nbformat": 4,
 "nbformat_minor": 2
}
