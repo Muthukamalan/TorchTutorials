{
 "cells": [
  {
   "cell_type": "markdown",
   "metadata": {},
   "source": [
    "# Using convolutions to generalize\n",
    "- Understanding convolution\n",
    "- Creating custom `nn.Module` subclasses\n",
    "- difference between the `nn.module` and `nn.functional` APIs"
   ]
  },
  {
   "cell_type": "code",
   "execution_count": 1,
   "metadata": {},
   "outputs": [],
   "source": [
    "import torch \n",
    "import torchvision\n",
    "import os\n",
    "from matplotlib import pyplot as plt\n",
    "from torchinfo import summary"
   ]
  },
  {
   "cell_type": "code",
   "execution_count": 2,
   "metadata": {},
   "outputs": [],
   "source": [
    "DATAPATH = r'C:\\Users\\muthu\\GitHub\\DATA 📁'"
   ]
  },
  {
   "cell_type": "code",
   "execution_count": 3,
   "metadata": {},
   "outputs": [
    {
     "name": "stdout",
     "output_type": "stream",
     "text": [
      "Dataset CIFAR10\n",
      "    Number of datapoints: 50000\n",
      "    Root location: C:\\Users\\muthu\\GitHub\\DATA 📁\n",
      "    Split: Train\n",
      "    StandardTransform\n",
      "Transform: Compose(\n",
      "               ToTensor()\n",
      "               Normalize(mean=(0.49139968, 0.48215827, 0.44653124), std=(0.24703233, 0.24348505, 0.26158768))\n",
      "           )\n"
     ]
    }
   ],
   "source": [
    "CIFAR10:torchvision.datasets.CIFAR10  = torchvision.datasets.CIFAR10(\n",
    "                                                    root=DATAPATH,\n",
    "                                                    download=False,\n",
    "                                                    transform=torchvision.transforms.Compose([\n",
    "                                                            torchvision.transforms.ToTensor(),\n",
    "                                                            torchvision.transforms.Normalize(\n",
    "                                                                mean=(0.49139968, 0.48215827 ,0.44653124),\n",
    "                                                                std=(0.24703233 ,0.24348505, 0.26158768))\n",
    "                                                    ])    \n",
    ")\n",
    "\n",
    "print(CIFAR10)"
   ]
  },
  {
   "cell_type": "markdown",
   "metadata": {},
   "source": [
    "## What convolutions do\n",
    "- Convolution, or more precisely, discrete convolution localized patterns to have an effect on the output regardless of their location in the image: that is, to be *translation invariant*\n",
    "- typically we use small kernels ( optimized for GPU and stacking kernels will result Respective Field Steadly! )\n",
    "- since it's small parameter model with lot fewer parameters\n",
    "- `nn.Conv2d` expects a *( Batch x Channel x Height x Width )* shape as tensor\n",
    "\n",
    "<div align='center'> <img src=\"../assets/locality%20and%20translation%20invariance.png\" alt=\"convolution\" height=500 width=1000></img> </div>"
   ]
  },
  {
   "cell_type": "markdown",
   "metadata": {},
   "source": [
    "\n",
    "## Padding, and Maxpooling\n",
    "##### padding \n",
    "- helps in size of an image adjustments (U-Net / Residual Connection) \n",
    "- separate the matter of convolution (changing image sizes) by creating *ghost* pixels around the border\n",
    "\n",
    "<div align='center'> <img src=\"../assets/padding.png\" alt=\"convolution\" height=500 width=1000 />  </div>\n",
    "\n",
    "##### MaxPooling\n",
    "combining convolutions and downsampling for great good and increase in RF\n",
    "<div align='center'>  <img src=\"../assets/maxpool.png\" alt=\"maxpool\" height=500 width=1000 /> </div>\n",
    "\n",
    "\n",
    "\n",
    "\n",
    "## Detecting features with convoltuions\n",
    "\n",
    "<div align='center'> <img src=\"../assets/learning%20with%20conv.png\" height=500 width=1000></img> </div>\n",
    "\n",
    "In fact, the job of a computer vision expert has historically been to come up with the most effective combination of filters so that certain features are highlighted in images and objects can be recognized.\n",
    "\n",
    "Here we let model to figure it out."
   ]
  },
  {
   "cell_type": "code",
   "execution_count": 4,
   "metadata": {},
   "outputs": [
    {
     "name": "stdout",
     "output_type": "stream",
     "text": [
      "torch.Size([1, 3, 32, 32]) torch.Size([1, 16, 30, 30])\n"
     ]
    },
    {
     "data": {
      "image/png": "[encoded data removed]",
      "text/plain": [
       "<Figure size 640x480 with 1 Axes>"
      ]
     },
     "metadata": {},
     "output_type": "display_data"
    }
   ],
   "source": [
    "conv = torch.nn.Conv2d(3,16,kernel_size=3,padding=0,stride=1,bias=True)\n",
    "\n",
    "## Average Kernel (Blurr)\n",
    "with torch.no_grad():\n",
    "    conv.bias.zero_()\n",
    "with torch.no_grad():\n",
    "    conv.weight.fill_(1./4.0)\n",
    "\n",
    "##  Edge-Detection Kernel \n",
    "# with torch.no_grad():\n",
    "#     conv.weight[:] = torch.tensor([[-1.0, 0.0, 1.0], [-1.0, 0.0, 1.0],[-1.0, 0.0, 1.0]])\n",
    "\n",
    "\n",
    "img, label = CIFAR10[2]\n",
    "output     = conv(img.unsqueeze(0))\n",
    "print(img.unsqueeze(0).shape, output.shape)\n",
    "\n",
    "plt.imshow(output[0,0].detach().cpu().numpy(),cmap='gray')\n",
    "plt.title(CIFAR10.classes[label])\n",
    "plt.show()"
   ]
  },
  {
   "cell_type": "markdown",
   "metadata": {},
   "source": [
    "## Putting it all together\n",
    "```python\n",
    " model = nn.Sequential(\n",
    "                torch.torch.torch.torch.nn.Conv2d(3, 16, kernel_size=3, padding=1),\n",
    "                torch.torch.nn.Tanh(),\n",
    "                nn.MaxPool2d(2),\n",
    "                nn.Conv2d(16, 8, kernel_size=3, padding=1),\n",
    "                nn.Tanh(),\n",
    "                nn.MaxPool2d(2),\n",
    "                # ...\n",
    "                nn.Linear(8 * 8 * 8, 32),\n",
    "                nn.Tanh(),\n",
    "                nn.Linear(32, 2))\n",
    "```\n",
    "<div align='center'> \n",
    "    <img src=\"../assets/typical%20cnn%20architecture.png\" alt=\"typical cnn architecture\" height=500 width=1000>\n",
    "</div>"
   ]
  },
  {
   "cell_type": "markdown",
   "metadata": {},
   "source": [
    "## Subclassing `nn.Module`\n",
    "-  How PyTorch keeps track of parameters and submodules\n",
    "\n",
    "In order to subclass `nn.Module` at minimum we need to define `forward` function that takes the inputs to the module and returns the output. backward propagation will take care by autograd automatically.\n",
    " \n",
    "`Note`\n",
    "you need to call `super().__init__()` before you can do that (or PyTorch will remind you)\n",
    "\n",
    "The submodules must be top-level attributes, not buried inside list or dict instance. Otherwise optimizer will not able to locate the submodules use `nn.ModuleList` and `nn.ModuleDict`\n",
    "\n"
   ]
  },
  {
   "cell_type": "code",
   "execution_count": 5,
   "metadata": {},
   "outputs": [],
   "source": [
    "class Net(torch.nn.Module):\n",
    "    def __init__(self, in_channels=3,out_channels=2):\n",
    "        super().__init__()\n",
    "        self.conv1 = torch.nn.Conv2d(in_channels,16,kernel_size=3,padding=1)\n",
    "        self.act1  = torch.nn.Tanh()\n",
    "        self.pool1 = torch.nn.MaxPool2d(2)\n",
    "        self.conv2 = torch.nn.Conv2d(16,8,kernel_size=3,padding=1)\n",
    "        self.act2  = torch.nn.Tanh()\n",
    "        self.pool2 = torch.nn.MaxPool2d(2)\n",
    "        self.fc1   = torch.nn.Linear(8*8*8,32)\n",
    "        self.act3  = torch.nn.Tanh()\n",
    "        self.fc2   = torch.nn.Linear(32,out_channels) \n",
    "\n",
    "    def forward(self,x, *args, **kwargs):\n",
    "        out = self.pool1( self.act1( self.conv1(x) ) )\n",
    "        out = self.pool2( self.act2( self.conv2(out) ) )\n",
    "        out = out.view(-1,8*8*8)\n",
    "        out = self.fc2( self.act3(self.fc1(out)) )\n",
    "        return out"
   ]
  },
  {
   "cell_type": "code",
   "execution_count": 6,
   "metadata": {},
   "outputs": [
    {
     "name": "stdout",
     "output_type": "stream",
     "text": [
      "number of parameters:: 18090\n"
     ]
    },
    {
     "data": {
      "text/plain": [
       "====================================================================================================================================================================================\n",
       "Layer (type (var_name):depth-idx)        Input Shape          Output Shape         Param #              Param %              Kernel Shape         Mult-Adds            Trainable\n",
       "====================================================================================================================================================================================\n",
       "Net (Net)                                [1, 3, 32, 32]       [1, 2]               --                        --              --                   --                   True\n",
       "├─Conv2d (conv1): 1-1                    [1, 3, 32, 32]       [1, 16, 32, 32]      448                    2.48%              [3, 3]               458,752              True\n",
       "├─Tanh (act1): 1-2                       [1, 16, 32, 32]      [1, 16, 32, 32]      --                        --              --                   --                   --\n",
       "├─MaxPool2d (pool1): 1-3                 [1, 16, 32, 32]      [1, 16, 16, 16]      --                        --              2                    --                   --\n",
       "├─Conv2d (conv2): 1-4                    [1, 16, 16, 16]      [1, 8, 16, 16]       1,160                  6.41%              [3, 3]               296,960              True\n",
       "├─Tanh (act2): 1-5                       [1, 8, 16, 16]       [1, 8, 16, 16]       --                        --              --                   --                   --\n",
       "├─MaxPool2d (pool2): 1-6                 [1, 8, 16, 16]       [1, 8, 8, 8]         --                        --              2                    --                   --\n",
       "├─Linear (fc1): 1-7                      [1, 512]             [1, 32]              16,416                90.75%              --                   16,416               True\n",
       "├─Tanh (act3): 1-8                       [1, 32]              [1, 32]              --                        --              --                   --                   --\n",
       "├─Linear (fc2): 1-9                      [1, 32]              [1, 2]               66                     0.36%              --                   66                   True\n",
       "====================================================================================================================================================================================\n",
       "Total params: 18,090\n",
       "Trainable params: 18,090\n",
       "Non-trainable params: 0\n",
       "Total mult-adds (M): 0.77\n",
       "====================================================================================================================================================================================\n",
       "Input size (MB): 0.01\n",
       "Forward/backward pass size (MB): 0.15\n",
       "Params size (MB): 0.07\n",
       "Estimated Total Size (MB): 0.23\n",
       "===================================================================================================================================================================================="
      ]
     },
     "execution_count": 6,
     "metadata": {},
     "output_type": "execute_result"
    }
   ],
   "source": [
    "model = Net(in_channels=3,out_channels=2)\n",
    "print(f\"number of parameters:: {sum(p.numel() for p in model.parameters() )}\")\n",
    "\n",
    "summary(\n",
    "        model=model, \n",
    "        input_size=(1,3,32,32),\n",
    "        col_width=20,\n",
    "        row_settings=[\"depth\",\"var_names\"],\n",
    "        col_names=[\"input_size\",\"output_size\",\"num_params\",\"params_percent\", \"kernel_size\",\"mult_adds\",\"trainable\"]\n",
    ")"
   ]
  },
  {
   "cell_type": "markdown",
   "metadata": {},
   "source": [
    "## The functional API `nn.functional`\n",
    "\n",
    "By \"functional\" here we mean \"having no internal state\""
   ]
  },
  {
   "cell_type": "code",
   "execution_count": 7,
   "metadata": {},
   "outputs": [
    {
     "name": "stdout",
     "output_type": "stream",
     "text": [
      "number of parameters:: 18090\n"
     ]
    },
    {
     "data": {
      "text/plain": [
       "====================================================================================================================================================================================\n",
       "Layer (type (var_name):depth-idx)        Input Shape          Output Shape         Param #              Param %              Kernel Shape         Mult-Adds            Trainable\n",
       "====================================================================================================================================================================================\n",
       "NetF (NetF)                              [1, 3, 32, 32]       [1, 2]               --                        --              --                   --                   True\n",
       "├─Conv2d (conv1): 1-1                    [1, 3, 32, 32]       [1, 16, 32, 32]      448                    2.48%              [3, 3]               458,752              True\n",
       "├─Conv2d (conv2): 1-2                    [1, 16, 16, 16]      [1, 8, 16, 16]       1,160                  6.41%              [3, 3]               296,960              True\n",
       "├─Linear (fc1): 1-3                      [1, 512]             [1, 32]              16,416                90.75%              --                   16,416               True\n",
       "├─Linear (fc2): 1-4                      [1, 32]              [1, 2]               66                     0.36%              --                   66                   True\n",
       "====================================================================================================================================================================================\n",
       "Total params: 18,090\n",
       "Trainable params: 18,090\n",
       "Non-trainable params: 0\n",
       "Total mult-adds (M): 0.77\n",
       "====================================================================================================================================================================================\n",
       "Input size (MB): 0.01\n",
       "Forward/backward pass size (MB): 0.15\n",
       "Params size (MB): 0.07\n",
       "Estimated Total Size (MB): 0.23\n",
       "===================================================================================================================================================================================="
      ]
     },
     "execution_count": 7,
     "metadata": {},
     "output_type": "execute_result"
    }
   ],
   "source": [
    "from torch.nn import functional as F\n",
    "\n",
    "class NetF(torch.nn.Module):\n",
    "    def __init__(self,in_channels=3,out_channels=2):\n",
    "        super().__init__()\n",
    "        self.conv1 = torch.nn.Conv2d(in_channels, 16, kernel_size=3, padding=1)\n",
    "        self.conv2 = torch.nn.Conv2d(16, 8, kernel_size=3, padding=1)\n",
    "        self.fc1 = torch.nn.Linear(8 * 8 * 8, 32)\n",
    "        self.fc2 = torch.nn.Linear(32, out_channels)\n",
    "    def forward(self,x):\n",
    "        out = F.max_pool2d(torch.tanh(self.conv1(x)),2)\n",
    "        out = F.max_pool2d(torch.tanh(self.conv2(out)),2)\n",
    "        out = out.view(-1,8*8*8)\n",
    "        out = torch.tanh(self.fc1(out))\n",
    "        out = self.fc2(out)\n",
    "        return out\n",
    "    \n",
    "\n",
    "model = NetF(in_channels=3,out_channels=2)\n",
    "print(f\"number of parameters:: {sum(p.numel() for p in model.parameters() )}\")\n",
    "\n",
    "summary(\n",
    "        model=model, \n",
    "        input_size=(1,3,32,32),\n",
    "        col_width=20,\n",
    "        row_settings=[\"depth\",\"var_names\"],\n",
    "        col_names=[\"input_size\",\"output_size\",\"num_params\",\"params_percent\", \"kernel_size\",\"mult_adds\",\"trainable\"]\n",
    ")"
   ]
  },
  {
   "cell_type": "markdown",
   "metadata": {},
   "source": [
    "Later,  we will briefly touch on quantization. Then stateless bits like activations suddenly become stateful because information about the quantization needs to be captured. This means if we aim to quantize our model, it might be worthwhile to stick with the modular API if we go for non-JITed quantization\n",
    "\n",
    "\n",
    "Recall that the core of our convnet is two nested loops: an outer one over the `epochs` and an inner one of the DataLoader that produces `batches` from our Dataset.\n",
    "\n",
    "In each loop, we then have to\n",
    " - Feed the inputs through the model (the forward pass).\n",
    " - Compute the loss (also part of the forward pass).\n",
    " - Zero any old gradients.\n",
    " - Call loss.backward() to compute the gradients of the loss with respect to all parameters (the backward pass).\n",
    " - Have the optimizer take a step in toward lower loss."
   ]
  },
  {
   "cell_type": "markdown",
   "metadata": {},
   "source": [
    "## Model design\n",
    "\n",
    "### Adding memory capacity: Width\n",
    "- First dimension is **Width** of the network: number of channels per convolution\n",
    "\n",
    "### Helping our model to converge and generalize: Regualarization and Dropout\n",
    "- **L1** and **L2** norm\n",
    "- dropout should normally active when model training.\n",
    "\n",
    "\n",
    "### KEEPING ACTIVATIONS IN CHECK: BATCH NORMALIZATION\n",
    "- Reducing the internal convariate sift (address different features present in different channels)\n",
    "\n",
    "### Going deeper to learn more complex structures: Depth (Residual Connection)\n",
    "- Since this is a deep learning, depth is something we’re supposedly into.\n",
    "-  Depth allows a model to deal with hierarchical information when we need to understand the context in order to say something about some input.\n",
    "- A skip connection is nothing but the addition of the input to the output of a block of layers.\n",
    "<div align='center'>\n",
    "    <img src=\"../assets/residual connection.png\" height=600 width=300  alt='residual'/>\n",
    "</div>\n",
    "\n",
    "we're using the output of the first activations as inputs to the last, in addition to standard feed-forward path. This is referred as `identity mapping`. It's not new Highway networks and U-Net made use of skip connections of one-form or another."
   ]
  },
  {
   "cell_type": "code",
   "execution_count": 8,
   "metadata": {},
   "outputs": [],
   "source": [
    "class NetRes(torch.nn.Module):\n",
    "  def __init__(self, n_chans1:int=32):\n",
    "    super().__init__()\n",
    "    self.n_chans1 = n_chans1\n",
    "    self.conv1 = torch.nn.Conv2d(3, n_chans1, kernel_size=3, padding=1)\n",
    "    self.conv2 = torch.nn.Conv2d(n_chans1, n_chans1 // 2, kernel_size=3, padding=1)\n",
    "    self.conv3 = torch.nn.Conv2d(n_chans1 // 2, n_chans1 // 2, kernel_size=3, padding=1)\n",
    "    self.fc1 = torch.nn.Linear(4 * 4 * n_chans1 // 2, 32)\n",
    "    self.fc2 = torch.nn.Linear(32, 2)\n",
    "  def forward(self, x):\n",
    "    out = F.max_pool2d(torch.relu(self.conv1(x)), 2)\n",
    "    out = F.max_pool2d(torch.relu(self.conv2(out)), 2)\n",
    "    out1 = out\n",
    "    out = F.max_pool2d(torch.relu(self.conv3(out)) + out1, 2)\n",
    "    out = out.view(-1, 4 * 4 * self.n_chans1 // 2)\n",
    "    out = torch.relu(self.fc1(out))\n",
    "    out = self.fc2(out)\n",
    "    return out"
   ]
  },
  {
   "cell_type": "code",
   "execution_count": 9,
   "metadata": {},
   "outputs": [
    {
     "data": {
      "text/plain": [
       "====================================================================================================================================================================================\n",
       "Layer (type (var_name):depth-idx)        Input Shape          Output Shape         Param #              Param %              Kernel Shape         Mult-Adds            Trainable\n",
       "====================================================================================================================================================================================\n",
       "NetRes (NetRes)                          [3, 32, 32]          [1, 2]               --                        --              --                   --                   True\n",
       "├─Conv2d (conv1): 1-1                    [3, 32, 32]          [32, 32, 32]         896                    5.55%              [3, 3]               917,504              True\n",
       "├─Conv2d (conv2): 1-2                    [32, 16, 16]         [16, 16, 16]         4,624                 28.67%              [3, 3]               1,183,744            True\n",
       "├─Conv2d (conv3): 1-3                    [16, 8, 8]           [16, 8, 8]           2,320                 14.38%              [3, 3]               296,960              True\n",
       "├─Linear (fc1): 1-4                      [1, 256]             [1, 32]              8,224                 50.99%              --                   8,224                True\n",
       "├─Linear (fc2): 1-5                      [1, 32]              [1, 2]               66                     0.41%              --                   66                   True\n",
       "====================================================================================================================================================================================\n",
       "Total params: 16,130\n",
       "Trainable params: 16,130\n",
       "Non-trainable params: 0\n",
       "Total mult-adds (M): 2.41\n",
       "====================================================================================================================================================================================\n",
       "Input size (MB): 0.01\n",
       "Forward/backward pass size (MB): 0.30\n",
       "Params size (MB): 0.06\n",
       "Estimated Total Size (MB): 0.38\n",
       "===================================================================================================================================================================================="
      ]
     },
     "execution_count": 9,
     "metadata": {},
     "output_type": "execute_result"
    }
   ],
   "source": [
    "modelF = NetRes(n_chans1=32)\n",
    "summary(model=modelF,input_size=(3,32,32),col_width=20,\n",
    "        row_settings=[\"depth\",\"var_names\"],\n",
    "        col_names=[\"input_size\",\"output_size\",\"num_params\",\"params_percent\", \"kernel_size\",\"mult_adds\",\"trainable\"])"
   ]
  },
  {
   "cell_type": "markdown",
   "metadata": {},
   "source": [
    "<h1 align='center'>Deep Network</h1>\n",
    "<div align='center'>\n",
    "    <img src=\"../assets/deep nn.png\" alt='deep nn' height=700 width=500></img>\n",
    "</div>"
   ]
  },
  {
   "cell_type": "code",
   "execution_count": 10,
   "metadata": {},
   "outputs": [],
   "source": [
    "class ResBlock(torch.nn.Module):\n",
    "  def __init__(self, n_chans:int):\n",
    "    super(ResBlock, self).__init__()\n",
    "    self.conv = torch.nn.Conv2d(n_chans, n_chans, kernel_size=3, padding=1, bias=False)\n",
    "    self.batch_norm = torch.nn.BatchNorm2d(num_features=n_chans)\n",
    "    torch.nn.init.kaiming_normal_(self.conv.weight, nonlinearity='relu')\n",
    "    torch.nn.init.constant_(self.batch_norm.weight, 0.5)\n",
    "    torch.nn.init.zeros_(self.batch_norm.bias)\n",
    "    \n",
    "  def forward(self, x):\n",
    "    out = self.conv(x)\n",
    "    out = self.batch_norm(out)\n",
    "    out = torch.relu(out)\n",
    "    return out + x\n",
    "\n",
    "class NetResDeep(torch.nn.Module):\n",
    "  def __init__(self, n_chans1=32, n_blocks=1):\n",
    "    super().__init__()\n",
    "    self.n_chans1 = n_chans1\n",
    "    self.conv1 = torch.nn.Conv2d(3, n_chans1, kernel_size=3, padding=1)\n",
    "    self.resblocks = torch.nn.Sequential(\n",
    "                *( n_blocks* [ResBlock(n_chans=n_chans1)] )\n",
    "    )\n",
    "    self.fc1 = torch.nn.Linear(8 * 8 * n_chans1, 32)\n",
    "    self.fc2 = torch.nn.Linear(32, 2)\n",
    "  def forward(self, x):\n",
    "    out = F.max_pool2d(torch.relu(self.conv1(x)), 2)\n",
    "    out = self.resblocks(out)\n",
    "    out = F.max_pool2d(out, 2)\n",
    "    out = out.view(-1, 8 * 8 * self.n_chans1)\n",
    "    out = torch.relu(self.fc1(out))\n",
    "    out = self.fc2(out)\n",
    "    return out"
   ]
  },
  {
   "cell_type": "code",
   "execution_count": 11,
   "metadata": {},
   "outputs": [
    {
     "data": {
      "text/plain": [
       "==============================================================================================================================================================================================\n",
       "Layer (type (var_name):depth-idx)                  Input Shape          Output Shape         Param #              Param %              Kernel Shape         Mult-Adds            Trainable\n",
       "==============================================================================================================================================================================================\n",
       "NetResDeep (NetResDeep)                            [1, 3, 32, 32]       [1, 2]               --                        --              --                   --                   True\n",
       "├─Conv2d (conv1): 1-1                              [1, 3, 32, 32]       [1, 32, 32, 32]      896                    1.18%              [3, 3]               917,504              True\n",
       "├─Sequential (resblocks): 1-2                      [1, 32, 16, 16]      [1, 32, 16, 16]      --                        --              --                   --                   True\n",
       "│    └─ResBlock (4): 2-1                           [1, 32, 16, 16]      [1, 32, 16, 16]      --                        --              --                   --                   True\n",
       "│    │    └─Conv2d (conv): 3-1                     [1, 32, 16, 16]      [1, 32, 16, 16]      9,216                 12.16%              [3, 3]               2,359,296            True\n",
       "│    │    └─BatchNorm2d (batch_norm): 3-2          [1, 32, 16, 16]      [1, 32, 16, 16]      64                     0.08%              --                   64                   True\n",
       "│    └─ResBlock (4): 2-2                           [1, 32, 16, 16]      [1, 32, 16, 16]      (recursive)          (recursive)          --                   --                   True\n",
       "│    │    └─Conv2d (conv): 3-3                     [1, 32, 16, 16]      [1, 32, 16, 16]      (recursive)          (recursive)          [3, 3]               2,359,296            True\n",
       "│    │    └─BatchNorm2d (batch_norm): 3-4          [1, 32, 16, 16]      [1, 32, 16, 16]      (recursive)          (recursive)          --                   64                   True\n",
       "│    └─ResBlock (4): 2-3                           [1, 32, 16, 16]      [1, 32, 16, 16]      (recursive)          (recursive)          --                   --                   True\n",
       "│    │    └─Conv2d (conv): 3-5                     [1, 32, 16, 16]      [1, 32, 16, 16]      (recursive)          (recursive)          [3, 3]               2,359,296            True\n",
       "│    │    └─BatchNorm2d (batch_norm): 3-6          [1, 32, 16, 16]      [1, 32, 16, 16]      (recursive)          (recursive)          --                   64                   True\n",
       "│    └─ResBlock (4): 2-4                           [1, 32, 16, 16]      [1, 32, 16, 16]      (recursive)          (recursive)          --                   --                   True\n",
       "│    │    └─Conv2d (conv): 3-7                     [1, 32, 16, 16]      [1, 32, 16, 16]      (recursive)          (recursive)          [3, 3]               2,359,296            True\n",
       "│    │    └─BatchNorm2d (batch_norm): 3-8          [1, 32, 16, 16]      [1, 32, 16, 16]      (recursive)          (recursive)          --                   64                   True\n",
       "│    └─ResBlock (4): 2-5                           [1, 32, 16, 16]      [1, 32, 16, 16]      (recursive)          (recursive)          --                   --                   True\n",
       "│    │    └─Conv2d (conv): 3-9                     [1, 32, 16, 16]      [1, 32, 16, 16]      (recursive)          (recursive)          [3, 3]               2,359,296            True\n",
       "│    │    └─BatchNorm2d (batch_norm): 3-10         [1, 32, 16, 16]      [1, 32, 16, 16]      (recursive)          (recursive)          --                   64                   True\n",
       "├─Linear (fc1): 1-3                                [1, 2048]            [1, 32]              65,568                86.49%              --                   65,568               True\n",
       "├─Linear (fc2): 1-4                                [1, 32]              [1, 2]               66                     0.09%              --                   66                   True\n",
       "==============================================================================================================================================================================================\n",
       "Total params: 75,810\n",
       "Trainable params: 75,810\n",
       "Non-trainable params: 0\n",
       "Total mult-adds (M): 12.78\n",
       "==============================================================================================================================================================================================\n",
       "Input size (MB): 0.01\n",
       "Forward/backward pass size (MB): 0.92\n",
       "Params size (MB): 0.30\n",
       "Estimated Total Size (MB): 1.23\n",
       "=============================================================================================================================================================================================="
      ]
     },
     "execution_count": 11,
     "metadata": {},
     "output_type": "execute_result"
    }
   ],
   "source": [
    "modelDeep = NetResDeep(n_chans1=32,n_blocks=5)\n",
    "summary(\n",
    "    model=modelDeep,\n",
    "    input_size=(1,3,32,32),\n",
    "    col_width=20,\n",
    "    row_settings=[\"depth\",\"var_names\"],\n",
    "    col_names=[\"input_size\",\"output_size\",\"num_params\",\"params_percent\", \"kernel_size\",\"mult_adds\",\"trainable\"]\n",
    ")"
   ]
  },
  {
   "cell_type": "markdown",
   "metadata": {},
   "source": [
    "### Exercise"
   ]
  },
  {
   "cell_type": "code",
   "execution_count": 12,
   "metadata": {},
   "outputs": [],
   "source": [
    "class ResBlock(torch.nn.Module):\n",
    "  def __init__(self, n_chans:int):\n",
    "    super(ResBlock, self).__init__()\n",
    "    self.conv = torch.nn.Conv2d(n_chans, n_chans, kernel_size=5, padding=2, bias=False)\n",
    "    self.batch_norm = torch.nn.BatchNorm2d(num_features=n_chans)\n",
    "    torch.nn.init.kaiming_normal_(self.conv.weight, nonlinearity='relu')\n",
    "    torch.nn.init.constant_(self.batch_norm.weight, 0.5)\n",
    "    torch.nn.init.zeros_(self.batch_norm.bias)\n",
    "    \n",
    "  def forward(self, x):\n",
    "    out = self.conv(x)\n",
    "    out = self.batch_norm(out)\n",
    "    out = torch.relu(out)\n",
    "    return out + x\n",
    "\n",
    "class NetResDeep(torch.nn.Module):\n",
    "  def __init__(self, n_chans1=32, n_blocks=1):\n",
    "    super().__init__()\n",
    "    self.n_chans1 = n_chans1\n",
    "    self.conv1 = torch.nn.Conv2d(3, n_chans1, kernel_size=5, padding=2)\n",
    "    self.resblocks = torch.nn.Sequential(\n",
    "                *( n_blocks* [ResBlock(n_chans=n_chans1)] )\n",
    "    )\n",
    "    self.fc1 = torch.nn.Linear(8 * 8 * n_chans1, 32)\n",
    "    self.fc2 = torch.nn.Linear(32, 2)\n",
    "  def forward(self, x):\n",
    "    out = F.max_pool2d(torch.relu(self.conv1(x)), 2)\n",
    "    out = self.resblocks(out)\n",
    "    out = F.max_pool2d(out, 2)\n",
    "    out = out.view(-1, 8 * 8 * self.n_chans1)\n",
    "    out = torch.relu(self.fc1(out))\n",
    "    out = self.fc2(out)\n",
    "    return out"
   ]
  },
  {
   "cell_type": "code",
   "execution_count": 13,
   "metadata": {},
   "outputs": [
    {
     "data": {
      "text/plain": [
       "==============================================================================================================================================================================================\n",
       "Layer (type (var_name):depth-idx)                  Input Shape          Output Shape         Param #              Param %              Kernel Shape         Mult-Adds            Trainable\n",
       "==============================================================================================================================================================================================\n",
       "NetResDeep (NetResDeep)                            [1, 3, 32, 32]       [1, 2]               --                        --              --                   --                   True\n",
       "├─Conv2d (conv1): 1-1                              [1, 3, 32, 32]       [1, 32, 32, 32]      2,432                  2.59%              [5, 5]               2,490,368            True\n",
       "├─Sequential (resblocks): 1-2                      [1, 32, 16, 16]      [1, 32, 16, 16]      --                        --              --                   --                   True\n",
       "│    └─ResBlock (4): 2-1                           [1, 32, 16, 16]      [1, 32, 16, 16]      --                        --              --                   --                   True\n",
       "│    │    └─Conv2d (conv): 3-1                     [1, 32, 16, 16]      [1, 32, 16, 16]      25,600                27.31%              [5, 5]               6,553,600            True\n",
       "│    │    └─BatchNorm2d (batch_norm): 3-2          [1, 32, 16, 16]      [1, 32, 16, 16]      64                     0.07%              --                   64                   True\n",
       "│    └─ResBlock (4): 2-2                           [1, 32, 16, 16]      [1, 32, 16, 16]      (recursive)          (recursive)          --                   --                   True\n",
       "│    │    └─Conv2d (conv): 3-3                     [1, 32, 16, 16]      [1, 32, 16, 16]      (recursive)          (recursive)          [5, 5]               6,553,600            True\n",
       "│    │    └─BatchNorm2d (batch_norm): 3-4          [1, 32, 16, 16]      [1, 32, 16, 16]      (recursive)          (recursive)          --                   64                   True\n",
       "│    └─ResBlock (4): 2-3                           [1, 32, 16, 16]      [1, 32, 16, 16]      (recursive)          (recursive)          --                   --                   True\n",
       "│    │    └─Conv2d (conv): 3-5                     [1, 32, 16, 16]      [1, 32, 16, 16]      (recursive)          (recursive)          [5, 5]               6,553,600            True\n",
       "│    │    └─BatchNorm2d (batch_norm): 3-6          [1, 32, 16, 16]      [1, 32, 16, 16]      (recursive)          (recursive)          --                   64                   True\n",
       "│    └─ResBlock (4): 2-4                           [1, 32, 16, 16]      [1, 32, 16, 16]      (recursive)          (recursive)          --                   --                   True\n",
       "│    │    └─Conv2d (conv): 3-7                     [1, 32, 16, 16]      [1, 32, 16, 16]      (recursive)          (recursive)          [5, 5]               6,553,600            True\n",
       "│    │    └─BatchNorm2d (batch_norm): 3-8          [1, 32, 16, 16]      [1, 32, 16, 16]      (recursive)          (recursive)          --                   64                   True\n",
       "│    └─ResBlock (4): 2-5                           [1, 32, 16, 16]      [1, 32, 16, 16]      (recursive)          (recursive)          --                   --                   True\n",
       "│    │    └─Conv2d (conv): 3-9                     [1, 32, 16, 16]      [1, 32, 16, 16]      (recursive)          (recursive)          [5, 5]               6,553,600            True\n",
       "│    │    └─BatchNorm2d (batch_norm): 3-10         [1, 32, 16, 16]      [1, 32, 16, 16]      (recursive)          (recursive)          --                   64                   True\n",
       "├─Linear (fc1): 1-3                                [1, 2048]            [1, 32]              65,568                69.95%              --                   65,568               True\n",
       "├─Linear (fc2): 1-4                                [1, 32]              [1, 2]               66                     0.07%              --                   66                   True\n",
       "==============================================================================================================================================================================================\n",
       "Total params: 93,730\n",
       "Trainable params: 93,730\n",
       "Non-trainable params: 0\n",
       "Total mult-adds (M): 35.32\n",
       "==============================================================================================================================================================================================\n",
       "Input size (MB): 0.01\n",
       "Forward/backward pass size (MB): 0.92\n",
       "Params size (MB): 0.37\n",
       "Estimated Total Size (MB): 1.31\n",
       "=============================================================================================================================================================================================="
      ]
     },
     "execution_count": 13,
     "metadata": {},
     "output_type": "execute_result"
    }
   ],
   "source": [
    "modelDeep = NetResDeep(n_chans1=32,n_blocks=5)\n",
    "summary(\n",
    "    model=modelDeep,\n",
    "    input_size=(1,3,32,32),\n",
    "    col_width=20,\n",
    "    row_settings=[\"depth\",\"var_names\"],\n",
    "    col_names=[\"input_size\",\"output_size\",\"num_params\",\"params_percent\", \"kernel_size\",\"mult_adds\",\"trainable\"]\n",
    ")"
   ]
  }
 ],
 "metadata": {
  "kernelspec": {
   "display_name": "venv",
   "language": "python",
   "name": "python3"
  },
  "language_info": {
   "codemirror_mode": {
    "name": "ipython",
    "version": 3
   },
   "file_extension": ".py",
   "mimetype": "text/x-python",
   "name": "python",
   "nbconvert_exporter": "python",
   "pygments_lexer": "ipython3",
   "version": "3.10.14"
  }
 },
 "nbformat": 4,
 "nbformat_minor": 2
}
